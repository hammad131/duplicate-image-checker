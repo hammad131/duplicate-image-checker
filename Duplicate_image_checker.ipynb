{
  "nbformat": 4,
  "nbformat_minor": 0,
  "metadata": {
    "colab": {
      "name": "Duplicate-image-checker.ipynb",
      "provenance": [],
      "collapsed_sections": []
    },
    "kernelspec": {
      "name": "python3",
      "display_name": "Python 3"
    },
    "language_info": {
      "name": "python"
    }
  },
  "cells": [
    {
      "cell_type": "code",
      "metadata": {
        "colab": {
          "base_uri": "https://localhost:8080/"
        },
        "id": "dC9OdowPUxSI",
        "outputId": "ebc32c87-24c9-4aeb-d064-6e5109a887eb"
      },
      "source": [
        "from google.colab import drive\n",
        "drive.mount('/content/drive')"
      ],
      "execution_count": 1,
      "outputs": [
        {
          "output_type": "stream",
          "name": "stdout",
          "text": [
            "Mounted at /content/drive\n"
          ]
        }
      ]
    },
    {
      "cell_type": "code",
      "metadata": {
        "id": "1sDs0FDdUzmA"
      },
      "source": [
        "#importing libraries\n",
        "from PIL import Image"
      ],
      "execution_count": 2,
      "outputs": []
    },
    {
      "cell_type": "code",
      "metadata": {
        "id": "ez1R2nfsVJ7B"
      },
      "source": [
        "images = []\n",
        "\n",
        "for i in range(1,6):\n",
        "  images.append(Image.open(f\"/content/drive/MyDrive/Png/test-punks/test-punks/{i}.png\"))"
      ],
      "execution_count": 3,
      "outputs": []
    },
    {
      "cell_type": "code",
      "metadata": {
        "id": "UPN62AJOVUKV"
      },
      "source": [
        "images_pixel = []\n",
        "\n",
        "for i in range(len(images)):\n",
        "    a = \"image_pixel\" + str(i)\n",
        "    a = []\n",
        "    for y in range(images[i].height):\n",
        "        for x in range(images[i].width):\n",
        "            a.append(images[i].getpixel((x,y)))\n",
        "\n",
        "    images_pixel.append(a)"
      ],
      "execution_count": 4,
      "outputs": []
    },
    {
      "cell_type": "code",
      "metadata": {
        "colab": {
          "base_uri": "https://localhost:8080/"
        },
        "id": "BWpBYbTNVlIm",
        "outputId": "b0a473cf-f288-4581-e61f-b26a1d7e306c"
      },
      "source": [
        "duplicate_number = []\n",
        "duplicate_pixel = []\n",
        "\n",
        "\n",
        "for i in range(len(images_pixel)):\n",
        "  for j in range(len(images_pixel)):\n",
        "      if(j!=i):\n",
        "        # print(f\"j {j} and i {i}\")\n",
        "        if images_pixel[i] == images_pixel[j] and images_pixel[i] not in duplicate_pixel:\n",
        "          duplicate_pixel.append(images_pixel[i])\n",
        "          duplicate_number.append(i)\n",
        "      \n",
        "  \n",
        "\n",
        "\n",
        "duplicate_number\n"
      ],
      "execution_count": 5,
      "outputs": [
        {
          "output_type": "execute_result",
          "data": {
            "text/plain": [
              "[3]"
            ]
          },
          "metadata": {},
          "execution_count": 5
        }
      ]
    },
    {
      "cell_type": "code",
      "metadata": {
        "id": "oofs-BsXVp8s"
      },
      "source": [
        ""
      ],
      "execution_count": null,
      "outputs": []
    }
  ]
}